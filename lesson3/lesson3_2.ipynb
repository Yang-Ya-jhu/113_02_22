{
 "cells": [
  {
   "cell_type": "code",
   "execution_count": 2,
   "metadata": {},
   "outputs": [
    {
     "name": "stdout",
     "output_type": "stream",
     "text": [
      "半徑:100.00,圓面積:31415.926\n"
     ]
    }
   ],
   "source": [
    "#計算圓面積\n",
    "rabius=eval(input(\"請輸入半徑\")) #eval會使變數轉換成字串\n",
    "PI=3.1415926\n",
    "area = PI*rabius**2 #順序半徑平方2後>>乘餘pi(圓周率)>>算出數值等於圓面積\n",
    "print(f\"半徑:{rabius:.2F},圓面積:{area:.3f}\")"
   ]
  },
  {
   "cell_type": "code",
   "execution_count": 6,
   "metadata": {},
   "outputs": [
    {
     "ename": "TypeError",
     "evalue": "unsupported operand type(s) for ** or pow(): 'str' and 'int'",
     "output_type": "error",
     "traceback": [
      "\u001b[0;31m---------------------------------------------------------------------------\u001b[0m",
      "\u001b[0;31mTypeError\u001b[0m                                 Traceback (most recent call last)",
      "Cell \u001b[0;32mIn[6], line 4\u001b[0m\n\u001b[1;32m      2\u001b[0m rabius\u001b[38;5;241m=\u001b[39m(\u001b[38;5;28minput\u001b[39m(\u001b[38;5;124m\"\u001b[39m\u001b[38;5;124m請輸入半徑\u001b[39m\u001b[38;5;124m\"\u001b[39m)) \n\u001b[1;32m      3\u001b[0m PI\u001b[38;5;241m=\u001b[39m\u001b[38;5;241m3.1415926\u001b[39m\n\u001b[0;32m----> 4\u001b[0m area \u001b[38;5;241m=\u001b[39m PI\u001b[38;5;241m*\u001b[39m\u001b[43mrabius\u001b[49m\u001b[38;5;241;43m*\u001b[39;49m\u001b[38;5;241;43m*\u001b[39;49m\u001b[38;5;241;43m2\u001b[39;49m \n\u001b[1;32m      5\u001b[0m \u001b[38;5;28mprint\u001b[39m(\u001b[38;5;124mf\u001b[39m\u001b[38;5;124m\"\u001b[39m\u001b[38;5;124m半徑:\u001b[39m\u001b[38;5;132;01m{\u001b[39;00mrabius\u001b[38;5;132;01m:\u001b[39;00m\u001b[38;5;124m.2F\u001b[39m\u001b[38;5;132;01m}\u001b[39;00m\u001b[38;5;124m,圓面積:\u001b[39m\u001b[38;5;132;01m{\u001b[39;00marea\u001b[38;5;132;01m:\u001b[39;00m\u001b[38;5;124m.3f\u001b[39m\u001b[38;5;132;01m}\u001b[39;00m\u001b[38;5;124m\"\u001b[39m)\n",
      "\u001b[0;31mTypeError\u001b[0m: unsupported operand type(s) for ** or pow(): 'str' and 'int'"
     ]
    }
   ],
   "source": [
    "#缺少eval\n",
    "rabius=(input(\"請輸入半徑\")) \n",
    "PI=3.1415926\n",
    "area = PI*rabius**2 \n",
    "print(f\"半徑:{rabius:.2F},圓面積:{area:.3f}\")"
   ]
  },
  {
   "cell_type": "code",
   "execution_count": 9,
   "metadata": {},
   "outputs": [
    {
     "name": "stdout",
     "output_type": "stream",
     "text": [
      "半徑:50.00,圓面積:7853.981\n"
     ]
    }
   ],
   "source": [
    "#缺少定義pi(pi有內建數值了)\n",
    "rabius=eval(input(\"請輸入半徑\")) \n",
    "area = PI*rabius**2 \n",
    "print(f\"半徑:{rabius:.2F},圓面積:{area:.3f}\")"
   ]
  },
  {
   "cell_type": "code",
   "execution_count": 12,
   "metadata": {},
   "outputs": [
    {
     "name": "stdout",
     "output_type": "stream",
     "text": [
      "半徑:50.00,圓面積:7853.982\n"
     ]
    }
   ],
   "source": [
    "#使用內建函數math來定義pi，使用數學是裡的pi做使用\n",
    "import math\n",
    "rabius=eval(input(\"請輸入半徑\")) \n",
    "area = math.pi*rabius**2 \n",
    "print(f\"半徑:{rabius:.2F},圓面積:{area:.3f}\")"
   ]
  },
  {
   "cell_type": "code",
   "execution_count": 13,
   "metadata": {},
   "outputs": [
    {
     "name": "stdout",
     "output_type": "stream",
     "text": [
      "3.141592653589793\n"
     ]
    },
    {
     "ename": "NameError",
     "evalue": "name 'pi' is not defined",
     "output_type": "error",
     "traceback": [
      "\u001b[0;31m---------------------------------------------------------------------------\u001b[0m",
      "\u001b[0;31mNameError\u001b[0m                                 Traceback (most recent call last)",
      "Cell \u001b[0;32mIn[13], line 2\u001b[0m\n\u001b[1;32m      1\u001b[0m \u001b[38;5;28mprint\u001b[39m(math\u001b[38;5;241m.\u001b[39mpi)\n\u001b[0;32m----> 2\u001b[0m \u001b[38;5;28mprint\u001b[39m(\u001b[43mpi\u001b[49m)\n",
      "\u001b[0;31mNameError\u001b[0m: name 'pi' is not defined"
     ]
    }
   ],
   "source": [
    "print(math.pi)\n",
    "print(pi)"
   ]
  },
  {
   "cell_type": "code",
   "execution_count": 28,
   "metadata": {},
   "outputs": [
    {
     "name": "stdout",
     "output_type": "stream",
     "text": [
      "你的姓名 : 50\n",
      "你的體重(kg) : 50\n",
      "你的身高(公分) : 155\n",
      "你的BMI : 20.81\n"
     ]
    }
   ],
   "source": [
    "#BMI計算器'請輸入姓名'請輸入身高(公分)'請輸入體重'輸出你的名子'輸出身高'輸出體重'輸出bmi和2位數'選起來選擇\"code\"\n",
    "#體重/身高(公分)**2(k**2)\n",
    "#BMI計算器=體重/(身高/100)**2\n",
    "n=eval(input(\"請輸入姓名(請勿輸入數字)\"))\n",
    "k=eval(input(\"請輸入體重(kg)\"))\n",
    "m=eval(input(\"請輸入身高(公分)\"))\n",
    "i=k/((m/100)**2)\n",
    "print(F\"你的姓名 : {n}\")\n",
    "print(f\"你的體重(kg) : {k}\")\n",
    "print(f\"你的身高(公分) : {m}\")\n",
    "print(f\"你的BMI : {i:.2f}\")\n"
   ]
  }
 ],
 "metadata": {
  "kernelspec": {
   "display_name": "Python 3",
   "language": "python",
   "name": "python3"
  },
  "language_info": {
   "codemirror_mode": {
    "name": "ipython",
    "version": 3
   },
   "file_extension": ".py",
   "mimetype": "text/x-python",
   "name": "python",
   "nbconvert_exporter": "python",
   "pygments_lexer": "ipython3",
   "version": "3.10.13"
  }
 },
 "nbformat": 4,
 "nbformat_minor": 2
}
