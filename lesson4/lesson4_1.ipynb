{
 "cells": [
  {
   "cell_type": "code",
   "execution_count": null,
   "metadata": {},
   "outputs": [],
   "source": [
    "#求直角三角形的角度\n",
    "#高中數學\n",
    "import math\n",
    "side = eval(input(\"請輸入斜邊:\"))\n",
    "another = eval(input(\"請輸入對邊:\"))\n",
    "radian = math.asin(another/side)\n",
    "degree = math.degrees(radian)\n",
    "\n",
    "print(f'斜邊:{side},對邊:{another}')\n",
    "print(f'三角形的角度是{degree:.2f}')"
   ]
  },
  {
   "cell_type": "code",
   "execution_count": null,
   "metadata": {},
   "outputs": [],
   "source": [
    "#大學數學\n",
    "import statistics\n",
    "print((0+5+9+14)/4)\n",
    "print((5+6+8+9)/4)\n",
    "\n",
    "print(statistics.stdev([0, 5, 9, 14]))\n",
    "print(statistics.stdev([5, 6, 8, 9]))\n"
   ]
  }
 ],
 "metadata": {
  "language_info": {
   "name": "python"
  }
 },
 "nbformat": 4,
 "nbformat_minor": 2
}
