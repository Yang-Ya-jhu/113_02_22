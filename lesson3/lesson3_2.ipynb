{
 "cells": [
  {
   "cell_type": "code",
   "execution_count": 2,
   "metadata": {},
   "outputs": [
    {
     "name": "stdout",
     "output_type": "stream",
     "text": [
      "半徑:100.00,圓面積:31415.926\n"
     ]
    }
   ],
   "source": [
    "#計算圓面積\n",
    "rabius=eval(input(\"請輸入半徑\"))\n",
    "PI=3.1415926\n",
    "area = PI*rabius**2 #順序半徑平方2後>>乘餘pi(圓周率)>>算出數值等於圓面積\n",
    "print(f\"半徑:{rabius:.2F},圓面積:{area:.3f}\")"
   ]
  }
 ],
 "metadata": {
  "kernelspec": {
   "display_name": "Python 3",
   "language": "python",
   "name": "python3"
  },
  "language_info": {
   "codemirror_mode": {
    "name": "ipython",
    "version": 3
   },
   "file_extension": ".py",
   "mimetype": "text/x-python",
   "name": "python",
   "nbconvert_exporter": "python",
   "pygments_lexer": "ipython3",
   "version": "3.10.13"
  }
 },
 "nbformat": 4,
 "nbformat_minor": 2
}
