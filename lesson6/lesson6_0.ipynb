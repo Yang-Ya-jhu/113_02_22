{
 "cells": [
  {
   "cell_type": "code",
   "execution_count": 1,
   "metadata": {},
   "outputs": [
    {
     "name": "stdout",
     "output_type": "stream",
     "text": [
      "10的因數為:\n",
      "1,2,5,10,"
     ]
    }
   ],
   "source": [
    "try: \n",
    "    x = int(input('請輸入整數:'))\n",
    "    print(f'{x}的因數為:')\n",
    "    \n",
    "    for i in range(1,x+1):\n",
    "        if x%i == 0:\n",
    "            print(f'{i}',end=',')\n",
    "        \n",
    "except:\n",
    "    print('format error')"
   ]
  },
  {
   "cell_type": "code",
   "execution_count": 6,
   "metadata": {},
   "outputs": [
    {
     "name": "stdout",
     "output_type": "stream",
     "text": [
      "10的因數為:\n",
      "1,2,5,10\n"
     ]
    }
   ],
   "source": [
    "try: \n",
    "    x = int(input('請輸入整數:'))\n",
    "    print(f'{x}的因數為:')\n",
    "    \n",
    "    is_list = []\n",
    "    for i in range(1,x+1):\n",
    "        if x%i == 0:\n",
    "            is_list.append(str(i))\n",
    "    print(\",\".join(is_list))\n",
    "\n",
    "except:\n",
    "    print('format error')"
   ]
  },
  {
   "cell_type": "code",
   "execution_count": 7,
   "metadata": {},
   "outputs": [
    {
     "name": "stdout",
     "output_type": "stream",
     "text": [
      "恭喜!已經存了1個月存款總金額為:45897元,超過30000\n"
     ]
    }
   ],
   "source": [
    "deposit = 0\n",
    "month = 0\n",
    "while True:\n",
    "    month += 1\n",
    "    input_money=int(input(f\"請輸入第{month}月份的存款:\"))\n",
    "    deposit += input_money\n",
    "    if deposit >=30000:\n",
    "        break\n",
    "\n",
    "print(f\"恭喜!已經存了{month}個月存款總金額為:{deposit}元,超過30000\")"
   ]
  },
  {
   "cell_type": "code",
   "execution_count": 13,
   "metadata": {},
   "outputs": [
    {
     "name": "stdout",
     "output_type": "stream",
     "text": [
      "加總的次數是10次,所有輸入的正偶數的加總是110\n"
     ]
    }
   ],
   "source": [
    "#請設計一個程式，讓使用者輸入數值，只有加總正奇數值，如果輸入負數，結束程式。\n",
    "mum = 0\n",
    "mum1 = 0\n",
    "sum = 0\n",
    "while True:\n",
    "    mum1 += 1\n",
    "    input_value = int(input(f\"請輸入第{mum}個數值\"))\n",
    "    if input_value < 0:\n",
    "        break\n",
    "    elif input_value % 2 == 1:\n",
    "        continue\n",
    "    mum += 1\n",
    "    sum += input_value\n",
    "\n",
    "print(f\"加總的次數是{mum}次,所有輸入的正偶數的加總是{sum}\")    \n",
    "\n"
   ]
  },
  {
   "cell_type": "code",
   "execution_count": 24,
   "metadata": {},
   "outputs": [
    {
     "name": "stdout",
     "output_type": "stream",
     "text": [
      "12.3格式錯誤\n",
      "格式錯誤\n",
      "123.5格式錯誤\n",
      "21.0格式錯誤\n",
      "10\n"
     ]
    }
   ],
   "source": [
    "while True:\n",
    "  try:\n",
    "    input_str=input(\"請輸入整數\")\n",
    "    input_value = int(input_str)\n",
    "  except:\n",
    "    print(f\"{input_str}格式錯誤\")\n",
    "    continue\n",
    "  else:\n",
    "    break\n",
    "\n",
    "print(input_value)"
   ]
  },
  {
   "cell_type": "code",
   "execution_count": null,
   "metadata": {},
   "outputs": [],
   "source": []
  }
 ],
 "metadata": {
  "kernelspec": {
   "display_name": "Python 3",
   "language": "python",
   "name": "python3"
  },
  "language_info": {
   "codemirror_mode": {
    "name": "ipython",
    "version": 3
   },
   "file_extension": ".py",
   "mimetype": "text/x-python",
   "name": "python",
   "nbconvert_exporter": "python",
   "pygments_lexer": "ipython3",
   "version": "3.10.13"
  }
 },
 "nbformat": 4,
 "nbformat_minor": 2
}
