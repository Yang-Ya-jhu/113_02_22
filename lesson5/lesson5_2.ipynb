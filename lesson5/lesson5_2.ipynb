{
 "cells": [
  {
   "cell_type": "code",
   "execution_count": 4,
   "metadata": {},
   "outputs": [
    {
     "name": "stdout",
     "output_type": "stream",
     "text": [
      "學生等級為丙\n"
     ]
    }
   ],
   "source": [
    "#90(含)~100分為\"優\"\n",
    "#80(含)~89分為\"甲\"\n",
    "#70(含)~79分為\"乙\"\n",
    "#60(含)~69分為\"丙\"\n",
    "#0(含)~59分為\"丁\"\n",
    "try:\n",
    "    score=int(input(\"請輸入學生分數\"))\n",
    "    if score >= 90:\n",
    "        grade=\"優\"\n",
    "    elif score>= 80:\n",
    "        grade=\"甲\"    \n",
    "    elif score>= 70:\n",
    "        grade=\"乙\"\n",
    "    elif score>= 60:\n",
    "        grade=\"丙\"    \n",
    "    else:\n",
    "        grade=\"丁\"   \n",
    "\n",
    "    print(f\"學生等級為{grade}\")\n",
    "except:\n",
    "    print(\"格式錯誤\")    "
   ]
  },
  {
   "cell_type": "code",
   "execution_count": 6,
   "metadata": {},
   "outputs": [
    {
     "name": "stdout",
     "output_type": "stream",
     "text": [
      "加分\n"
     ]
    }
   ],
   "source": [
    "#not後面一定要接bool值，接true值會傳出false值\n",
    "#not是用於true區和false區的對調\n",
    "add = input(\"請問是否要加分(y,n);\")\n",
    "if add ==\"y\":#原本y=不加分、n=加分\n",
    "    print(\"加分\")\n",
    "else:\n",
    "    print(\"不加分\")"
   ]
  },
  {
   "cell_type": "code",
   "execution_count": 10,
   "metadata": {},
   "outputs": [
    {
     "name": "stdout",
     "output_type": "stream",
     "text": [
      "加分\n"
     ]
    }
   ],
   "source": [
    "#not後面一定要接bool值，接true值會傳出false值\n",
    "#not是用於true區和false區的對調\n",
    "add = input(\"請問是否要加分(y,n);\")\n",
    "if not(add ==\"y\"):\n",
    "#會將y和n的值進行對調，變成y=不加分、n=加分\n",
    "    print(\"加分\")\n",
    "else:\n",
    "    print(\"不加分\")"
   ]
  },
  {
   "cell_type": "code",
   "execution_count": null,
   "metadata": {},
   "outputs": [],
   "source": []
  }
 ],
 "metadata": {
  "kernelspec": {
   "display_name": "Python 3",
   "language": "python",
   "name": "python3"
  },
  "language_info": {
   "codemirror_mode": {
    "name": "ipython",
    "version": 3
   },
   "file_extension": ".py",
   "mimetype": "text/x-python",
   "name": "python",
   "nbconvert_exporter": "python",
   "pygments_lexer": "ipython3",
   "version": "3.10.13"
  }
 },
 "nbformat": 4,
 "nbformat_minor": 2
}
