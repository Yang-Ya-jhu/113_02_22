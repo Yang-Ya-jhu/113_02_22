{
 "cells": [
  {
   "cell_type": "code",
   "execution_count": 1,
   "metadata": {},
   "outputs": [
    {
     "name": "stdout",
     "output_type": "stream",
     "text": [
      "0561\n"
     ]
    }
   ],
   "source": [
    "print(\"0561\")"
   ]
  },
  {
   "cell_type": "code",
   "execution_count": 8,
   "metadata": {},
   "outputs": [
    {
     "name": "stdout",
     "output_type": "stream",
     "text": [
      "<class 'str'>\n",
      "159\n"
     ]
    }
   ],
   "source": [
    "n=input(\"請輸入整數\")#只有輸入資料庫裡存著\n",
    "#檢查型別\n",
    "n#有print(輸出)才可以把存在資料庫裡的n值顯示出來\n",
    "print(type(n))#檢查型別\n",
    "\n",
    "print(int(n))#n值顯示"
   ]
  },
  {
   "cell_type": "code",
   "execution_count": 1,
   "metadata": {},
   "outputs": [
    {
     "name": "stdout",
     "output_type": "stream",
     "text": [
      "n= 49\n",
      "m= 1.059\n"
     ]
    }
   ],
   "source": [
    "n=int(input(\"請輸入整數\"))#順序:使用者先輸入數值>>int轉成整數(n)>>n會轉換成使用者打的數字\n",
    "m=float(input(\"請輸入浮點數\"))#順序:使用者先輸入數值>>float轉成浮點數(m)>>m會轉換成使用者打的數字\n",
    "print(\"n=\",n)\n",
    "print(\"m=\",m)"
   ]
  },
  {
   "cell_type": "code",
   "execution_count": 8,
   "metadata": {},
   "outputs": [
    {
     "name": "stdout",
     "output_type": "stream",
     "text": [
      "n = 50 , m = 10.9\n",
      "n=50,m=10.9\n"
     ]
    }
   ],
   "source": [
    "n=int(input(\"請輸入整數\"))\n",
    "m=float(input(\"請輸入浮點數\"))\n",
    "print(\"n =\",n,\",\",\"m =\",m)\n",
    "print(f\"n={n},m={m}\")#字串插補(字串格式化的簡寫/字串和變數整合，傳出全新的字串)"
   ]
  },
  {
   "cell_type": "code",
   "execution_count": 5,
   "metadata": {},
   "outputs": [
    {
     "name": "stdout",
     "output_type": "stream",
     "text": [
      "n=5,m=10.59\n"
     ]
    }
   ],
   "source": [
    "print(\"n=5,m=10.59\")\n"
   ]
  },
  {
   "cell_type": "code",
   "execution_count": 6,
   "metadata": {},
   "outputs": [
    {
     "data": {
      "text/plain": [
       "'n=59,m=5.0584'"
      ]
     },
     "execution_count": 6,
     "metadata": {},
     "output_type": "execute_result"
    }
   ],
   "source": [
    "#字串插補(字串和變數整合，傳出全新的字串)\n",
    "f\"n={n},m={m}\""
   ]
  },
  {
   "cell_type": "code",
   "execution_count": 7,
   "metadata": {},
   "outputs": [
    {
     "name": "stdout",
     "output_type": "stream",
     "text": [
      "n=59,m=5.0584\n"
     ]
    }
   ],
   "source": [
    "print(f\"n={n},m={m}\")"
   ]
  }
 ],
 "metadata": {
  "kernelspec": {
   "display_name": "Python 3",
   "language": "python",
   "name": "python3"
  },
  "language_info": {
   "codemirror_mode": {
    "name": "ipython",
    "version": 3
   },
   "file_extension": ".py",
   "mimetype": "text/x-python",
   "name": "python",
   "nbconvert_exporter": "python",
   "pygments_lexer": "ipython3",
   "version": "3.10.13"
  }
 },
 "nbformat": 4,
 "nbformat_minor": 2
}
