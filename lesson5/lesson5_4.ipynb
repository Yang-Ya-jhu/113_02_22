{
 "cells": [
  {
   "cell_type": "code",
   "execution_count": 1,
   "metadata": {},
   "outputs": [
    {
     "name": "stdout",
     "output_type": "stream",
     "text": [
      "1\n",
      "2\n",
      "3\n",
      "4\n",
      "5\n",
      "6\n",
      "7\n",
      "8\n",
      "9\n",
      "10\n"
     ]
    }
   ],
   "source": [
    "#1....10\n",
    "i=1\n",
    "while i<=10:\n",
    "    print(i)\n",
    "    i += 1"
   ]
  },
  {
   "cell_type": "code",
   "execution_count": 8,
   "metadata": {},
   "outputs": [
    {
     "name": "stdout",
     "output_type": "stream",
     "text": [
      "恭喜!已經存了1個月存款總金額為:320165元,超過30000\n"
     ]
    }
   ],
   "source": [
    "deposit = 0\n",
    "month = 0\n",
    "while deposit <30000:\n",
    "    month += 1\n",
    "    input_money=int(input(f\"請輸入第{month}月份的存款:\"))\n",
    "    deposit += input_money\n",
    "\n",
    "print(f\"恭喜!已經存了{month}個月存款總金額為:{deposit}元,超過30000\")"
   ]
  },
  {
   "cell_type": "code",
   "execution_count": 2,
   "metadata": {},
   "outputs": [
    {
     "name": "stdout",
     "output_type": "stream",
     "text": [
      "恭喜!已經存了4個月存款總金額為:81506元,超過30000\n"
     ]
    }
   ],
   "source": [
    "deposit = 0\n",
    "month = 0\n",
    "while True:\n",
    "    month += 1\n",
    "    input_money=int(input(f\"請輸入第{month}月份的存款:\"))\n",
    "    deposit += input_money\n",
    "    if deposit >=30000:\n",
    "        break\n",
    "\n",
    "print(f\"恭喜!已經存了{month}個月存款總金額為:{deposit}元,超過30000\")"
   ]
  },
  {
   "cell_type": "code",
   "execution_count": null,
   "metadata": {},
   "outputs": [],
   "source": []
  }
 ],
 "metadata": {
  "kernelspec": {
   "display_name": "Python 3",
   "language": "python",
   "name": "python3"
  },
  "language_info": {
   "codemirror_mode": {
    "name": "ipython",
    "version": 3
   },
   "file_extension": ".py",
   "mimetype": "text/x-python",
   "name": "python",
   "nbconvert_exporter": "python",
   "pygments_lexer": "ipython3",
   "version": "3.10.13"
  }
 },
 "nbformat": 4,
 "nbformat_minor": 2
}
