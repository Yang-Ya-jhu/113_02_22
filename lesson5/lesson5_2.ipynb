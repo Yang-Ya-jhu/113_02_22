{
 "cells": [
  {
   "cell_type": "code",
   "execution_count": 4,
   "metadata": {},
   "outputs": [
    {
     "name": "stdout",
     "output_type": "stream",
     "text": [
      "學生等級為丙\n"
     ]
    }
   ],
   "source": [
    "#90(含)~100分為\"優\"\n",
    "#80(含)~89分為\"甲\"\n",
    "#70(含)~79分為\"乙\"\n",
    "#60(含)~69分為\"丙\"\n",
    "#0(含)~59分為\"丁\"\n",
    "try:\n",
    "    score=int(input(\"請輸入學生分數\"))\n",
    "    if score >= 90:\n",
    "        grade=\"優\"\n",
    "    elif score>= 80:\n",
    "        grade=\"甲\"    \n",
    "    elif score>= 70:\n",
    "        grade=\"乙\"\n",
    "    elif score>= 60:\n",
    "        grade=\"丙\"    \n",
    "    else:\n",
    "        grade=\"丁\"   \n",
    "\n",
    "    print(f\"學生等級為{grade}\")\n",
    "except:\n",
    "    print(\"格式錯誤\")    "
   ]
  },
  {
   "cell_type": "code",
   "execution_count": 6,
   "metadata": {},
   "outputs": [
    {
     "name": "stdout",
     "output_type": "stream",
     "text": [
      "加分\n"
     ]
    }
   ],
   "source": [
    "#not後面一定要接bool值，接true值會傳出false值\n",
    "#not是用於true區和false區的對調\n",
    "add = input(\"請問是否要加分(y,n);\")\n",
    "if add ==\"y\":#原本y=不加分、n=加分\n",
    "    print(\"加分\")\n",
    "else:\n",
    "    print(\"不加分\")"
   ]
  },
  {
   "cell_type": "code",
   "execution_count": 10,
   "metadata": {},
   "outputs": [
    {
     "name": "stdout",
     "output_type": "stream",
     "text": [
      "加分\n"
     ]
    }
   ],
   "source": [
    "#not後面一定要接bool值，接true值會傳出false值\n",
    "#not是用於true區和false區的對調\n",
    "add = input(\"請問是否要加分(y,n);\")\n",
    "if not(add ==\"y\"):\n",
    "#會將y和n的值進行對調，變成y=不加分、n=加分\n",
    "    print(\"加分\")\n",
    "else:\n",
    "    print(\"不加分\")"
   ]
  },
  {
   "cell_type": "code",
   "execution_count": 15,
   "metadata": {},
   "outputs": [
    {
     "name": "stdout",
     "output_type": "stream",
     "text": [
      "獎金:0\n"
     ]
    }
   ],
   "source": [
    "#and前後面一定要接bool值，會將2個bool值變成1個bool值\n",
    "#and是用於嚴格得到true，需要2個true都有達成，才會顯示true\n",
    "#or前後面一定要接bool值，會將2個bool值變成1個bool值\n",
    "#or是用於寬鬆得到true，需要2個true有一個達成，就會顯示true\n",
    "#國文和數學同時100分，獲得獎金1000元\n",
    "#國文和數學有一個100分，獲得獎金500元\n",
    "#其他的都獎金0元\n",
    "\n",
    "chinese=int(input(\"國文分數:\"))\n",
    "math=int(input(\"數學分數:\"))\n",
    "bonus=0\n",
    "if chinese == 100 and math == 100:#嚴格的要寫在上面\n",
    "    bonus = 1000\n",
    "elif chinese == 100 or math == 100:#寬鬆的要寫在下面\n",
    "    bonus = 500\n",
    "\n",
    "print(f\"獎金:{bonus}\")\n",
    "#嚴格的要寫在上面，寬鬆的要寫在下面，這樣才會讓程式跑完"
   ]
  },
  {
   "cell_type": "code",
   "execution_count": 16,
   "metadata": {},
   "outputs": [],
   "source": [
    "#迴圈loop--分為for...in...(知道執行次數)和while....(不知道執行次數)"
   ]
  },
  {
   "cell_type": "code",
   "execution_count": null,
   "metadata": {},
   "outputs": [],
   "source": []
  }
 ],
 "metadata": {
  "kernelspec": {
   "display_name": "Python 3",
   "language": "python",
   "name": "python3"
  },
  "language_info": {
   "codemirror_mode": {
    "name": "ipython",
    "version": 3
   },
   "file_extension": ".py",
   "mimetype": "text/x-python",
   "name": "python",
   "nbconvert_exporter": "python",
   "pygments_lexer": "ipython3",
   "version": "3.10.13"
  }
 },
 "nbformat": 4,
 "nbformat_minor": 2
}
